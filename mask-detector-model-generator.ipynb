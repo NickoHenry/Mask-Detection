{
 "cells": [
  {
   "cell_type": "code",
   "execution_count": 1,
   "id": "9c5144d0",
   "metadata": {
    "execution": {
     "iopub.execute_input": "2022-01-09T10:26:26.016727Z",
     "iopub.status.busy": "2022-01-09T10:26:26.016036Z",
     "iopub.status.idle": "2022-01-09T10:26:30.477867Z",
     "shell.execute_reply": "2022-01-09T10:26:30.476811Z",
     "shell.execute_reply.started": "2022-01-09T10:07:11.034995Z"
    },
    "papermill": {
     "duration": 4.492168,
     "end_time": "2022-01-09T10:26:30.478116",
     "exception": false,
     "start_time": "2022-01-09T10:26:25.985948",
     "status": "completed"
    },
    "tags": []
   },
   "outputs": [],
   "source": [
    "# Library\n",
    "import pathlib\n",
    "import tensorflow as tf\n",
    "import datetime\n",
    "\n",
    "from tensorflow.keras.preprocessing import image_dataset_from_directory\n",
    "from tensorflow import keras\n",
    "from tensorflow.keras.models import Sequential\n",
    "from tensorflow.keras.layers import Conv2D, MaxPooling2D, Dropout, Flatten, Dense, experimental, BatchNormalization\n"
   ]
  },
  {
   "cell_type": "code",
   "execution_count": 2,
   "id": "6bf7820a",
   "metadata": {
    "execution": {
     "iopub.execute_input": "2022-01-09T10:26:30.518959Z",
     "iopub.status.busy": "2022-01-09T10:26:30.518301Z",
     "iopub.status.idle": "2022-01-09T10:26:30.528169Z",
     "shell.execute_reply": "2022-01-09T10:26:30.527699Z"
    },
    "papermill": {
     "duration": 0.031857,
     "end_time": "2022-01-09T10:26:30.528281",
     "exception": false,
     "start_time": "2022-01-09T10:26:30.496424",
     "status": "completed"
    },
    "tags": []
   },
   "outputs": [],
   "source": [
    "%load_ext tensorboard"
   ]
  },
  {
   "cell_type": "markdown",
   "id": "781832eb",
   "metadata": {
    "papermill": {
     "duration": 0.017367,
     "end_time": "2022-01-09T10:26:30.563370",
     "exception": false,
     "start_time": "2022-01-09T10:26:30.546003",
     "status": "completed"
    },
    "tags": []
   },
   "source": [
    "# Definition and Training"
   ]
  },
  {
   "cell_type": "code",
   "execution_count": 3,
   "id": "435ca1b9",
   "metadata": {
    "execution": {
     "iopub.execute_input": "2022-01-09T10:26:30.612947Z",
     "iopub.status.busy": "2022-01-09T10:26:30.611358Z",
     "iopub.status.idle": "2022-01-09T10:26:30.616768Z",
     "shell.execute_reply": "2022-01-09T10:26:30.617548Z",
     "shell.execute_reply.started": "2022-01-09T10:07:12.886469Z"
    },
    "papermill": {
     "duration": 0.037077,
     "end_time": "2022-01-09T10:26:30.617735",
     "exception": false,
     "start_time": "2022-01-09T10:26:30.580658",
     "status": "completed"
    },
    "tags": []
   },
   "outputs": [],
   "source": [
    "data_dir = pathlib.Path('Dataset')\n"
   ]
  },
  {
   "cell_type": "code",
   "execution_count": 4,
   "id": "ecfc87fc",
   "metadata": {
    "execution": {
     "iopub.execute_input": "2022-01-09T10:26:30.692435Z",
     "iopub.status.busy": "2022-01-09T10:26:30.691608Z",
     "iopub.status.idle": "2022-01-09T10:26:31.140203Z",
     "shell.execute_reply": "2022-01-09T10:26:31.142051Z",
     "shell.execute_reply.started": "2022-01-09T10:07:12.891970Z"
    },
    "papermill": {
     "duration": 0.491929,
     "end_time": "2022-01-09T10:26:31.142273",
     "exception": false,
     "start_time": "2022-01-09T10:26:30.650344",
     "status": "completed"
    },
    "tags": []
   },
   "outputs": [
    {
     "name": "stdout",
     "output_type": "stream",
     "text": [
      "8982\n"
     ]
    }
   ],
   "source": [
    "image_count = len(list(data_dir.glob('*/*.png')))\n",
    "print(image_count)\n"
   ]
  },
  {
   "cell_type": "code",
   "execution_count": 5,
   "id": "ab063723",
   "metadata": {
    "execution": {
     "iopub.execute_input": "2022-01-09T10:26:31.216157Z",
     "iopub.status.busy": "2022-01-09T10:26:31.213824Z",
     "iopub.status.idle": "2022-01-09T10:26:31.217018Z",
     "shell.execute_reply": "2022-01-09T10:26:31.217631Z",
     "shell.execute_reply.started": "2022-01-09T10:07:12.957818Z"
    },
    "papermill": {
     "duration": 0.040459,
     "end_time": "2022-01-09T10:26:31.217825",
     "exception": false,
     "start_time": "2022-01-09T10:26:31.177366",
     "status": "completed"
    },
    "tags": []
   },
   "outputs": [],
   "source": [
    "batch_size = 32\n",
    "img_height = 128\n",
    "img_width = 128\n",
    "Image_Size = (img_width, img_height)\n"
   ]
  },
  {
   "cell_type": "code",
   "execution_count": 6,
   "id": "b996c24d",
   "metadata": {
    "execution": {
     "iopub.execute_input": "2022-01-09T10:26:31.296872Z",
     "iopub.status.busy": "2022-01-09T10:26:31.295821Z",
     "iopub.status.idle": "2022-01-09T10:26:36.376392Z",
     "shell.execute_reply": "2022-01-09T10:26:36.375944Z",
     "shell.execute_reply.started": "2022-01-09T10:07:12.963974Z"
    },
    "papermill": {
     "duration": 5.123054,
     "end_time": "2022-01-09T10:26:36.376516",
     "exception": false,
     "start_time": "2022-01-09T10:26:31.253462",
     "status": "completed"
    },
    "tags": []
   },
   "outputs": [
    {
     "name": "stdout",
     "output_type": "stream",
     "text": [
      "Found 8982 files belonging to 3 classes.\n",
      "Using 7186 files for training.\n"
     ]
    },
    {
     "name": "stderr",
     "output_type": "stream",
     "text": [
      "2022-01-09 10:26:34.298235: I tensorflow/stream_executor/cuda/cuda_gpu_executor.cc:937] successful NUMA node read from SysFS had negative value (-1), but there must be at least one NUMA node, so returning NUMA node zero\n",
      "2022-01-09 10:26:34.381843: I tensorflow/stream_executor/cuda/cuda_gpu_executor.cc:937] successful NUMA node read from SysFS had negative value (-1), but there must be at least one NUMA node, so returning NUMA node zero\n",
      "2022-01-09 10:26:34.382601: I tensorflow/stream_executor/cuda/cuda_gpu_executor.cc:937] successful NUMA node read from SysFS had negative value (-1), but there must be at least one NUMA node, so returning NUMA node zero\n",
      "2022-01-09 10:26:34.385795: I tensorflow/core/platform/cpu_feature_guard.cc:142] This TensorFlow binary is optimized with oneAPI Deep Neural Network Library (oneDNN) to use the following CPU instructions in performance-critical operations:  AVX2 AVX512F FMA\n",
      "To enable them in other operations, rebuild TensorFlow with the appropriate compiler flags.\n",
      "2022-01-09 10:26:34.386953: I tensorflow/stream_executor/cuda/cuda_gpu_executor.cc:937] successful NUMA node read from SysFS had negative value (-1), but there must be at least one NUMA node, so returning NUMA node zero\n",
      "2022-01-09 10:26:34.387849: I tensorflow/stream_executor/cuda/cuda_gpu_executor.cc:937] successful NUMA node read from SysFS had negative value (-1), but there must be at least one NUMA node, so returning NUMA node zero\n",
      "2022-01-09 10:26:34.388699: I tensorflow/stream_executor/cuda/cuda_gpu_executor.cc:937] successful NUMA node read from SysFS had negative value (-1), but there must be at least one NUMA node, so returning NUMA node zero\n",
      "2022-01-09 10:26:35.994995: I tensorflow/stream_executor/cuda/cuda_gpu_executor.cc:937] successful NUMA node read from SysFS had negative value (-1), but there must be at least one NUMA node, so returning NUMA node zero\n",
      "2022-01-09 10:26:35.995777: I tensorflow/stream_executor/cuda/cuda_gpu_executor.cc:937] successful NUMA node read from SysFS had negative value (-1), but there must be at least one NUMA node, so returning NUMA node zero\n",
      "2022-01-09 10:26:35.996499: I tensorflow/stream_executor/cuda/cuda_gpu_executor.cc:937] successful NUMA node read from SysFS had negative value (-1), but there must be at least one NUMA node, so returning NUMA node zero\n",
      "2022-01-09 10:26:35.997213: I tensorflow/core/common_runtime/gpu/gpu_device.cc:1510] Created device /job:localhost/replica:0/task:0/device:GPU:0 with 15403 MB memory:  -> device: 0, name: Tesla P100-PCIE-16GB, pci bus id: 0000:00:04.0, compute capability: 6.0\n"
     ]
    }
   ],
   "source": [
    "train = image_dataset_from_directory(\n",
    "    data_dir,\n",
    "    validation_split=0.2,\n",
    "    subset=\"training\",\n",
    "    seed=69,\n",
    "    image_size=(img_height, img_width),\n",
    "    batch_size=batch_size,\n",
    "    label_mode=\"categorical\")\n"
   ]
  },
  {
   "cell_type": "code",
   "execution_count": 7,
   "id": "9bedd6d3",
   "metadata": {
    "execution": {
     "iopub.execute_input": "2022-01-09T10:26:36.419674Z",
     "iopub.status.busy": "2022-01-09T10:26:36.418831Z",
     "iopub.status.idle": "2022-01-09T10:26:37.938238Z",
     "shell.execute_reply": "2022-01-09T10:26:37.937297Z",
     "shell.execute_reply.started": "2022-01-09T10:07:16.718010Z"
    },
    "papermill": {
     "duration": 1.542308,
     "end_time": "2022-01-09T10:26:37.938400",
     "exception": false,
     "start_time": "2022-01-09T10:26:36.396092",
     "status": "completed"
    },
    "tags": []
   },
   "outputs": [
    {
     "name": "stdout",
     "output_type": "stream",
     "text": [
      "Found 8982 files belonging to 3 classes.\n",
      "Using 1796 files for validation.\n"
     ]
    }
   ],
   "source": [
    "test = image_dataset_from_directory(\n",
    "    data_dir,\n",
    "    validation_split=0.2,\n",
    "    subset=\"validation\",\n",
    "    seed=69,\n",
    "    image_size=(img_height, img_width),\n",
    "    batch_size=batch_size,\n",
    "    label_mode=\"categorical\")\n"
   ]
  },
  {
   "cell_type": "code",
   "execution_count": 8,
   "id": "2cebbadf",
   "metadata": {
    "execution": {
     "iopub.execute_input": "2022-01-09T10:26:37.980805Z",
     "iopub.status.busy": "2022-01-09T10:26:37.980146Z",
     "iopub.status.idle": "2022-01-09T10:26:37.982775Z",
     "shell.execute_reply": "2022-01-09T10:26:37.983281Z",
     "shell.execute_reply.started": "2022-01-09T10:07:17.294481Z"
    },
    "papermill": {
     "duration": 0.025631,
     "end_time": "2022-01-09T10:26:37.983405",
     "exception": false,
     "start_time": "2022-01-09T10:26:37.957774",
     "status": "completed"
    },
    "tags": []
   },
   "outputs": [
    {
     "name": "stdout",
     "output_type": "stream",
     "text": [
      "['mask_weared_incorrect', 'with_mask', 'without_mask']\n"
     ]
    }
   ],
   "source": [
    "class_names = train.class_names\n",
    "print(class_names)\n"
   ]
  },
  {
   "cell_type": "code",
   "execution_count": 9,
   "id": "0d447f06",
   "metadata": {
    "execution": {
     "iopub.execute_input": "2022-01-09T10:26:38.028230Z",
     "iopub.status.busy": "2022-01-09T10:26:38.027429Z",
     "iopub.status.idle": "2022-01-09T10:26:38.031519Z",
     "shell.execute_reply": "2022-01-09T10:26:38.031980Z",
     "shell.execute_reply.started": "2022-01-09T10:07:17.300789Z"
    },
    "papermill": {
     "duration": 0.02886,
     "end_time": "2022-01-09T10:26:38.032106",
     "exception": false,
     "start_time": "2022-01-09T10:26:38.003246",
     "status": "completed"
    },
    "tags": []
   },
   "outputs": [],
   "source": [
    "AUTOTUNE = tf.data.AUTOTUNE\n",
    "\n",
    "train = train.cache().prefetch(buffer_size=AUTOTUNE)\n",
    "test = test.cache().prefetch(buffer_size=AUTOTUNE)\n"
   ]
  },
  {
   "cell_type": "code",
   "execution_count": 10,
   "id": "21ce7c6d",
   "metadata": {
    "execution": {
     "iopub.execute_input": "2022-01-09T10:26:38.073570Z",
     "iopub.status.busy": "2022-01-09T10:26:38.072768Z",
     "iopub.status.idle": "2022-01-09T10:26:38.074677Z",
     "shell.execute_reply": "2022-01-09T10:26:38.075176Z",
     "shell.execute_reply.started": "2022-01-09T10:07:17.312786Z"
    },
    "papermill": {
     "duration": 0.024519,
     "end_time": "2022-01-09T10:26:38.075299",
     "exception": false,
     "start_time": "2022-01-09T10:26:38.050780",
     "status": "completed"
    },
    "tags": []
   },
   "outputs": [],
   "source": [
    "input_shapes = (128, 128, 3)\n"
   ]
  },
  {
   "cell_type": "code",
   "execution_count": 11,
   "id": "705d1a7f",
   "metadata": {
    "execution": {
     "iopub.execute_input": "2022-01-09T10:26:38.121269Z",
     "iopub.status.busy": "2022-01-09T10:26:38.118702Z",
     "iopub.status.idle": "2022-01-09T10:26:38.259575Z",
     "shell.execute_reply": "2022-01-09T10:26:38.260081Z",
     "shell.execute_reply.started": "2022-01-09T10:07:17.320122Z"
    },
    "papermill": {
     "duration": 0.166267,
     "end_time": "2022-01-09T10:26:38.260237",
     "exception": false,
     "start_time": "2022-01-09T10:26:38.093970",
     "status": "completed"
    },
    "tags": []
   },
   "outputs": [],
   "source": [
    "model = Sequential()\n",
    "\n",
    "model.add(experimental.preprocessing.Rescaling(\n",
    "    1/255, input_shape=(input_shapes)))\n",
    "\n",
    "model.add(Conv2D(32, (3, 3), activation=keras.activations.relu,\n",
    "          input_shape=input_shapes))\n",
    "model.add(BatchNormalization())\n",
    "model.add(MaxPooling2D(pool_size=(2, 2)))\n",
    "model.add(Dropout(0.3))\n",
    "\n",
    "model.add(Conv2D(64, (3, 3), activation=keras.activations.relu))\n",
    "model.add(BatchNormalization())\n",
    "model.add(MaxPooling2D(pool_size=(2, 2)))\n",
    "model.add(Dropout(0.3))\n",
    "\n",
    "model.add(Conv2D(128, (3, 3), activation=keras.activations.relu))\n",
    "model.add(BatchNormalization())\n",
    "model.add(MaxPooling2D(pool_size=(2, 2)))\n",
    "model.add(Dropout(0.3))\n",
    "\n",
    "model.add(Flatten())\n",
    "\n",
    "model.add(Dense(128, activation=keras.activations.relu))\n",
    "model.add(BatchNormalization())\n",
    "model.add(Dropout(0.5))\n",
    "\n",
    "model.add(Dense(3, activation=keras.activations.softmax))\n"
   ]
  },
  {
   "cell_type": "code",
   "execution_count": 12,
   "id": "7788c917",
   "metadata": {
    "execution": {
     "iopub.execute_input": "2022-01-09T10:26:38.303449Z",
     "iopub.status.busy": "2022-01-09T10:26:38.302835Z",
     "iopub.status.idle": "2022-01-09T10:26:38.654565Z",
     "shell.execute_reply": "2022-01-09T10:26:38.653657Z",
     "shell.execute_reply.started": "2022-01-09T10:07:17.449949Z"
    },
    "papermill": {
     "duration": 0.37517,
     "end_time": "2022-01-09T10:26:38.654693",
     "exception": false,
     "start_time": "2022-01-09T10:26:38.279523",
     "status": "completed"
    },
    "tags": []
   },
   "outputs": [
    {
     "name": "stderr",
     "output_type": "stream",
     "text": [
      "2022-01-09 10:26:38.304195: I tensorflow/core/profiler/lib/profiler_session.cc:131] Profiler session initializing.\n",
      "2022-01-09 10:26:38.304242: I tensorflow/core/profiler/lib/profiler_session.cc:146] Profiler session started.\n",
      "2022-01-09 10:26:38.306412: I tensorflow/core/profiler/internal/gpu/cupti_tracer.cc:1614] Profiler found 1 GPUs\n",
      "2022-01-09 10:26:38.520543: I tensorflow/core/profiler/lib/profiler_session.cc:164] Profiler session tear down.\n",
      "2022-01-09 10:26:38.520726: I tensorflow/core/profiler/internal/gpu/cupti_tracer.cc:1748] CUPTI activity buffer flushed\n"
     ]
    }
   ],
   "source": [
    "log_dir = \"logs/fit/\" + datetime.datetime.now().strftime(\"%Y%m%d-%H%M%S\")\n",
    "\n",
    "early_stopping = tf.keras.callbacks.EarlyStopping(\n",
    "    monitor=\"loss\", patience=3, mode=\"min\")\n",
    "tensorboard_callback = tf.keras.callbacks.TensorBoard(\n",
    "    log_dir=log_dir, histogram_freq=1)\n"
   ]
  },
  {
   "cell_type": "code",
   "execution_count": 13,
   "id": "92b545cb",
   "metadata": {
    "execution": {
     "iopub.execute_input": "2022-01-09T10:26:38.703385Z",
     "iopub.status.busy": "2022-01-09T10:26:38.702500Z",
     "iopub.status.idle": "2022-01-09T10:26:38.717659Z",
     "shell.execute_reply": "2022-01-09T10:26:38.717242Z",
     "shell.execute_reply.started": "2022-01-09T10:07:17.768721Z"
    },
    "papermill": {
     "duration": 0.042759,
     "end_time": "2022-01-09T10:26:38.717777",
     "exception": false,
     "start_time": "2022-01-09T10:26:38.675018",
     "status": "completed"
    },
    "tags": []
   },
   "outputs": [],
   "source": [
    "model.compile(loss=keras.losses.CategoricalCrossentropy(from_logits=True),\n",
    "              optimizer='adam',\n",
    "              metrics=['accuracy',tf.keras.metrics.Precision(),tf.keras.metrics.Recall()])"
   ]
  },
  {
   "cell_type": "code",
   "execution_count": 14,
   "id": "66709478",
   "metadata": {
    "execution": {
     "iopub.execute_input": "2022-01-09T10:26:38.762979Z",
     "iopub.status.busy": "2022-01-09T10:26:38.762159Z",
     "iopub.status.idle": "2022-01-09T10:26:38.775436Z",
     "shell.execute_reply": "2022-01-09T10:26:38.776095Z",
     "shell.execute_reply.started": "2022-01-09T10:07:17.791813Z"
    },
    "papermill": {
     "duration": 0.037538,
     "end_time": "2022-01-09T10:26:38.776274",
     "exception": false,
     "start_time": "2022-01-09T10:26:38.738736",
     "status": "completed"
    },
    "tags": []
   },
   "outputs": [
    {
     "name": "stdout",
     "output_type": "stream",
     "text": [
      "Model: \"sequential\"\n",
      "_________________________________________________________________\n",
      "Layer (type)                 Output Shape              Param #   \n",
      "=================================================================\n",
      "rescaling (Rescaling)        (None, 128, 128, 3)       0         \n",
      "_________________________________________________________________\n",
      "conv2d (Conv2D)              (None, 126, 126, 32)      896       \n",
      "_________________________________________________________________\n",
      "batch_normalization (BatchNo (None, 126, 126, 32)      128       \n",
      "_________________________________________________________________\n",
      "max_pooling2d (MaxPooling2D) (None, 63, 63, 32)        0         \n",
      "_________________________________________________________________\n",
      "dropout (Dropout)            (None, 63, 63, 32)        0         \n",
      "_________________________________________________________________\n",
      "conv2d_1 (Conv2D)            (None, 61, 61, 64)        18496     \n",
      "_________________________________________________________________\n",
      "batch_normalization_1 (Batch (None, 61, 61, 64)        256       \n",
      "_________________________________________________________________\n",
      "max_pooling2d_1 (MaxPooling2 (None, 30, 30, 64)        0         \n",
      "_________________________________________________________________\n",
      "dropout_1 (Dropout)          (None, 30, 30, 64)        0         \n",
      "_________________________________________________________________\n",
      "conv2d_2 (Conv2D)            (None, 28, 28, 128)       73856     \n",
      "_________________________________________________________________\n",
      "batch_normalization_2 (Batch (None, 28, 28, 128)       512       \n",
      "_________________________________________________________________\n",
      "max_pooling2d_2 (MaxPooling2 (None, 14, 14, 128)       0         \n",
      "_________________________________________________________________\n",
      "dropout_2 (Dropout)          (None, 14, 14, 128)       0         \n",
      "_________________________________________________________________\n",
      "flatten (Flatten)            (None, 25088)             0         \n",
      "_________________________________________________________________\n",
      "dense (Dense)                (None, 128)               3211392   \n",
      "_________________________________________________________________\n",
      "batch_normalization_3 (Batch (None, 128)               512       \n",
      "_________________________________________________________________\n",
      "dropout_3 (Dropout)          (None, 128)               0         \n",
      "_________________________________________________________________\n",
      "dense_1 (Dense)              (None, 3)                 387       \n",
      "=================================================================\n",
      "Total params: 3,306,435\n",
      "Trainable params: 3,305,731\n",
      "Non-trainable params: 704\n",
      "_________________________________________________________________\n"
     ]
    }
   ],
   "source": [
    "model.summary()\n"
   ]
  },
  {
   "cell_type": "code",
   "execution_count": 15,
   "id": "d35a324d",
   "metadata": {
    "execution": {
     "iopub.execute_input": "2022-01-09T10:26:38.821542Z",
     "iopub.status.busy": "2022-01-09T10:26:38.820968Z",
     "iopub.status.idle": "2022-01-09T10:28:26.131957Z",
     "shell.execute_reply": "2022-01-09T10:28:26.132451Z",
     "shell.execute_reply.started": "2022-01-09T10:07:17.808956Z"
    },
    "papermill": {
     "duration": 107.335344,
     "end_time": "2022-01-09T10:28:26.132612",
     "exception": false,
     "start_time": "2022-01-09T10:26:38.797268",
     "status": "completed"
    },
    "tags": []
   },
   "outputs": [
    {
     "name": "stdout",
     "output_type": "stream",
     "text": [
      "Epoch 1/15\n"
     ]
    },
    {
     "name": "stderr",
     "output_type": "stream",
     "text": [
      "/opt/conda/lib/python3.7/site-packages/keras/backend.py:4847: UserWarning: \"`categorical_crossentropy` received `from_logits=True`, but the `output` argument was produced by a sigmoid or softmax activation and thus does not represent logits. Was this intended?\"\n",
      "  '\"`categorical_crossentropy` received `from_logits=True`, but '\n",
      "2022-01-09 10:26:39.914664: I tensorflow/compiler/mlir/mlir_graph_optimization_pass.cc:185] None of the MLIR Optimization Passes are enabled (registered 2)\n",
      "2022-01-09 10:26:41.506889: I tensorflow/stream_executor/cuda/cuda_dnn.cc:369] Loaded cuDNN version 8005\n"
     ]
    },
    {
     "name": "stdout",
     "output_type": "stream",
     "text": [
      "  1/225 [..............................] - ETA: 29:24 - loss: 1.8643 - accuracy: 0.4688 - precision: 0.4483 - recall: 0.4062"
     ]
    },
    {
     "name": "stderr",
     "output_type": "stream",
     "text": [
      "2022-01-09 10:26:46.786364: I tensorflow/core/profiler/lib/profiler_session.cc:131] Profiler session initializing.\n",
      "2022-01-09 10:26:46.786409: I tensorflow/core/profiler/lib/profiler_session.cc:146] Profiler session started.\n"
     ]
    },
    {
     "name": "stdout",
     "output_type": "stream",
     "text": [
      "  2/225 [..............................] - ETA: 1:11 - loss: 1.3758 - accuracy: 0.6406 - precision: 0.6393 - recall: 0.6094 "
     ]
    },
    {
     "name": "stderr",
     "output_type": "stream",
     "text": [
      "2022-01-09 10:26:47.076500: I tensorflow/core/profiler/lib/profiler_session.cc:66] Profiler session collecting data.\n",
      "2022-01-09 10:26:47.076970: I tensorflow/core/profiler/internal/gpu/cupti_tracer.cc:1748] CUPTI activity buffer flushed\n",
      "2022-01-09 10:26:47.209258: I tensorflow/core/profiler/internal/gpu/cupti_collector.cc:673]  GpuTracer has collected 254 callback api events and 249 activity events. \n",
      "2022-01-09 10:26:47.219303: I tensorflow/core/profiler/lib/profiler_session.cc:164] Profiler session tear down.\n",
      "2022-01-09 10:26:47.236434: I tensorflow/core/profiler/rpc/client/save_profile.cc:136] Creating directory: logs/fit/20220109-102638/train/plugins/profile/2022_01_09_10_26_47\n",
      "\n",
      "2022-01-09 10:26:47.243425: I tensorflow/core/profiler/rpc/client/save_profile.cc:142] Dumped gzipped tool data for trace.json.gz to logs/fit/20220109-102638/train/plugins/profile/2022_01_09_10_26_47/1b4c8c4c3c01.trace.json.gz\n",
      "2022-01-09 10:26:47.265690: I tensorflow/core/profiler/rpc/client/save_profile.cc:136] Creating directory: logs/fit/20220109-102638/train/plugins/profile/2022_01_09_10_26_47\n",
      "\n",
      "2022-01-09 10:26:47.268189: I tensorflow/core/profiler/rpc/client/save_profile.cc:142] Dumped gzipped tool data for memory_profile.json.gz to logs/fit/20220109-102638/train/plugins/profile/2022_01_09_10_26_47/1b4c8c4c3c01.memory_profile.json.gz\n",
      "2022-01-09 10:26:47.269190: I tensorflow/core/profiler/rpc/client/capture_profile.cc:251] Creating directory: logs/fit/20220109-102638/train/plugins/profile/2022_01_09_10_26_47\n",
      "Dumped tool data for xplane.pb to logs/fit/20220109-102638/train/plugins/profile/2022_01_09_10_26_47/1b4c8c4c3c01.xplane.pb\n",
      "Dumped tool data for overview_page.pb to logs/fit/20220109-102638/train/plugins/profile/2022_01_09_10_26_47/1b4c8c4c3c01.overview_page.pb\n",
      "Dumped tool data for input_pipeline.pb to logs/fit/20220109-102638/train/plugins/profile/2022_01_09_10_26_47/1b4c8c4c3c01.input_pipeline.pb\n",
      "Dumped tool data for tensorflow_stats.pb to logs/fit/20220109-102638/train/plugins/profile/2022_01_09_10_26_47/1b4c8c4c3c01.tensorflow_stats.pb\n",
      "Dumped tool data for kernel_stats.pb to logs/fit/20220109-102638/train/plugins/profile/2022_01_09_10_26_47/1b4c8c4c3c01.kernel_stats.pb\n",
      "\n"
     ]
    },
    {
     "name": "stdout",
     "output_type": "stream",
     "text": [
      "225/225 [==============================] - 27s 85ms/step - loss: 0.3808 - accuracy: 0.8727 - precision: 0.8786 - recall: 0.8664 - val_loss: 3.5981 - val_accuracy: 0.5729 - val_precision: 0.5729 - val_recall: 0.5729\n",
      "Epoch 2/15\n",
      "225/225 [==============================] - 4s 17ms/step - loss: 0.2218 - accuracy: 0.9228 - precision: 0.9262 - recall: 0.9169 - val_loss: 2.1024 - val_accuracy: 0.6264 - val_precision: 0.6295 - val_recall: 0.6264\n",
      "Epoch 3/15\n",
      "225/225 [==============================] - 4s 17ms/step - loss: 0.2146 - accuracy: 0.9217 - precision: 0.9255 - recall: 0.9168 - val_loss: 0.1893 - val_accuracy: 0.9337 - val_precision: 0.9408 - val_recall: 0.9298\n",
      "Epoch 4/15\n",
      "225/225 [==============================] - 4s 17ms/step - loss: 0.1264 - accuracy: 0.9578 - precision: 0.9600 - recall: 0.9549 - val_loss: 0.1557 - val_accuracy: 0.9488 - val_precision: 0.9513 - val_recall: 0.9471\n",
      "Epoch 5/15\n",
      "225/225 [==============================] - 4s 18ms/step - loss: 0.1043 - accuracy: 0.9652 - precision: 0.9673 - recall: 0.9633 - val_loss: 0.2215 - val_accuracy: 0.9187 - val_precision: 0.9220 - val_recall: 0.9148\n",
      "Epoch 6/15\n",
      "225/225 [==============================] - 4s 17ms/step - loss: 0.0795 - accuracy: 0.9716 - precision: 0.9736 - recall: 0.9708 - val_loss: 0.1347 - val_accuracy: 0.9532 - val_precision: 0.9542 - val_recall: 0.9504\n",
      "Epoch 7/15\n",
      "225/225 [==============================] - 4s 17ms/step - loss: 0.0738 - accuracy: 0.9741 - precision: 0.9757 - recall: 0.9736 - val_loss: 0.1190 - val_accuracy: 0.9588 - val_precision: 0.9609 - val_recall: 0.9571\n",
      "Epoch 8/15\n",
      "225/225 [==============================] - 4s 17ms/step - loss: 0.0524 - accuracy: 0.9822 - precision: 0.9827 - recall: 0.9815 - val_loss: 0.0877 - val_accuracy: 0.9705 - val_precision: 0.9710 - val_recall: 0.9694\n",
      "Epoch 9/15\n",
      "225/225 [==============================] - 4s 18ms/step - loss: 0.0374 - accuracy: 0.9868 - precision: 0.9873 - recall: 0.9866 - val_loss: 0.1013 - val_accuracy: 0.9694 - val_precision: 0.9710 - val_recall: 0.9683\n",
      "Epoch 10/15\n",
      "225/225 [==============================] - 4s 17ms/step - loss: 0.0417 - accuracy: 0.9864 - precision: 0.9870 - recall: 0.9855 - val_loss: 0.1279 - val_accuracy: 0.9555 - val_precision: 0.9575 - val_recall: 0.9527\n",
      "Epoch 11/15\n",
      "225/225 [==============================] - 4s 17ms/step - loss: 0.0316 - accuracy: 0.9901 - precision: 0.9907 - recall: 0.9897 - val_loss: 0.1576 - val_accuracy: 0.9594 - val_precision: 0.9604 - val_recall: 0.9577\n",
      "Epoch 12/15\n",
      "225/225 [==============================] - 4s 18ms/step - loss: 0.0320 - accuracy: 0.9896 - precision: 0.9902 - recall: 0.9893 - val_loss: 0.0910 - val_accuracy: 0.9738 - val_precision: 0.9749 - val_recall: 0.9722\n",
      "Epoch 13/15\n",
      "225/225 [==============================] - 4s 17ms/step - loss: 0.0299 - accuracy: 0.9893 - precision: 0.9900 - recall: 0.9887 - val_loss: 0.0907 - val_accuracy: 0.9744 - val_precision: 0.9744 - val_recall: 0.9744\n",
      "Epoch 14/15\n",
      "225/225 [==============================] - 4s 17ms/step - loss: 0.0293 - accuracy: 0.9894 - precision: 0.9897 - recall: 0.9893 - val_loss: 0.1502 - val_accuracy: 0.9633 - val_precision: 0.9638 - val_recall: 0.9627\n",
      "Epoch 15/15\n",
      "225/225 [==============================] - 4s 17ms/step - loss: 0.0240 - accuracy: 0.9922 - precision: 0.9925 - recall: 0.9922 - val_loss: 0.1122 - val_accuracy: 0.9621 - val_precision: 0.9627 - val_recall: 0.9616\n"
     ]
    }
   ],
   "source": [
    "history = model.fit(train, epochs=15, validation_data=test,\n",
    "                    callbacks=[early_stopping, tensorboard_callback])\n"
   ]
  },
  {
   "cell_type": "code",
   "execution_count": 16,
   "id": "1f152bcb",
   "metadata": {
    "execution": {
     "iopub.execute_input": "2022-01-09T10:28:26.736894Z",
     "iopub.status.busy": "2022-01-09T10:28:26.729627Z",
     "iopub.status.idle": "2022-01-09T10:28:26.835113Z",
     "shell.execute_reply": "2022-01-09T10:28:26.834522Z",
     "shell.execute_reply.started": "2022-01-09T10:08:50.098110Z"
    },
    "papermill": {
     "duration": 0.400225,
     "end_time": "2022-01-09T10:28:26.835248",
     "exception": false,
     "start_time": "2022-01-09T10:28:26.435023",
     "status": "completed"
    },
    "tags": []
   },
   "outputs": [],
   "source": [
    "model.save('mask_detection_model.h5')"
   ]
  },
  {
   "cell_type": "markdown",
   "id": "e3e71fcd",
   "metadata": {
    "papermill": {
     "duration": 0.292734,
     "end_time": "2022-01-09T10:28:27.420078",
     "exception": false,
     "start_time": "2022-01-09T10:28:27.127344",
     "status": "completed"
    },
    "tags": []
   },
   "source": [
    "# Evaluation"
   ]
  },
  {
   "cell_type": "code",
   "execution_count": 17,
   "id": "7716a191",
   "metadata": {
    "execution": {
     "iopub.execute_input": "2022-01-09T10:28:28.009625Z",
     "iopub.status.busy": "2022-01-09T10:28:28.008786Z",
     "iopub.status.idle": "2022-01-09T10:28:28.219667Z",
     "shell.execute_reply": "2022-01-09T10:28:28.219164Z",
     "shell.execute_reply.started": "2022-01-09T10:08:53.874537Z"
    },
    "papermill": {
     "duration": 0.507367,
     "end_time": "2022-01-09T10:28:28.219790",
     "exception": false,
     "start_time": "2022-01-09T10:28:27.712423",
     "status": "completed"
    },
    "tags": []
   },
   "outputs": [],
   "source": [
    "model = keras.models.load_model('mask_detection_model.h5')\n"
   ]
  },
  {
   "cell_type": "code",
   "execution_count": 18,
   "id": "351c9a46",
   "metadata": {
    "execution": {
     "iopub.execute_input": "2022-01-09T10:28:28.814450Z",
     "iopub.status.busy": "2022-01-09T10:28:28.813109Z",
     "iopub.status.idle": "2022-01-09T10:28:28.815756Z",
     "shell.execute_reply": "2022-01-09T10:28:28.816200Z",
     "shell.execute_reply.started": "2022-01-09T10:08:56.261720Z"
    },
    "papermill": {
     "duration": 0.298738,
     "end_time": "2022-01-09T10:28:28.816340",
     "exception": false,
     "start_time": "2022-01-09T10:28:28.517602",
     "status": "completed"
    },
    "tags": []
   },
   "outputs": [],
   "source": [
    "from matplotlib import pyplot as plt\n",
    "from tensorflow.keras.utils import plot_model\n"
   ]
  },
  {
   "cell_type": "code",
   "execution_count": 19,
   "id": "678f9baa",
   "metadata": {
    "execution": {
     "iopub.execute_input": "2022-01-09T10:28:29.475295Z",
     "iopub.status.busy": "2022-01-09T10:28:29.474247Z",
     "iopub.status.idle": "2022-01-09T10:28:29.478767Z",
     "shell.execute_reply": "2022-01-09T10:28:29.477691Z",
     "shell.execute_reply.started": "2022-01-09T10:16:56.170228Z"
    },
    "papermill": {
     "duration": 0.370074,
     "end_time": "2022-01-09T10:28:29.479037",
     "exception": false,
     "start_time": "2022-01-09T10:28:29.108963",
     "status": "completed"
    },
    "tags": []
   },
   "outputs": [],
   "source": [
    "def plot_curve(metric):\n",
    "    plt.plot(history.history[metric])\n",
    "    plt.plot(history.history[f'val_{metric}'])\n",
    "    plt.title(f'Model {metric}')\n",
    "    plt.ylabel(metric)\n",
    "    plt.xlabel('epoch')\n",
    "    plt.legend(['train', 'validation'], loc='upper left')\n",
    "    plt.savefig(metric)\n",
    "    plt.show()"
   ]
  },
  {
   "cell_type": "code",
   "execution_count": 20,
   "id": "d27d8ed9",
   "metadata": {
    "execution": {
     "iopub.execute_input": "2022-01-09T10:28:30.249681Z",
     "iopub.status.busy": "2022-01-09T10:28:30.248857Z",
     "iopub.status.idle": "2022-01-09T10:28:30.506527Z",
     "shell.execute_reply": "2022-01-09T10:28:30.506930Z",
     "shell.execute_reply.started": "2022-01-09T10:16:57.351315Z"
    },
    "papermill": {
     "duration": 0.556658,
     "end_time": "2022-01-09T10:28:30.507099",
     "exception": false,
     "start_time": "2022-01-09T10:28:29.950441",
     "status": "completed"
    },
    "tags": []
   },
   "outputs": [
    {
     "data": {
      "image/png": "[encoded data removed]",
      "text/plain": [
       "<Figure size 432x288 with 1 Axes>"
      ]
     },
     "metadata": {
      "needs_background": "light"
     },
     "output_type": "display_data"
    }
   ],
   "source": [
    "plot_curve('accuracy')"
   ]
  },
  {
   "cell_type": "code",
   "execution_count": 21,
   "id": "71fc62a6",
   "metadata": {
    "execution": {
     "iopub.execute_input": "2022-01-09T10:28:31.106766Z",
     "iopub.status.busy": "2022-01-09T10:28:31.105956Z",
     "iopub.status.idle": "2022-01-09T10:28:31.338988Z",
     "shell.execute_reply": "2022-01-09T10:28:31.338535Z",
     "shell.execute_reply.started": "2022-01-09T10:17:14.564797Z"
    },
    "papermill": {
     "duration": 0.54036,
     "end_time": "2022-01-09T10:28:31.339117",
     "exception": false,
     "start_time": "2022-01-09T10:28:30.798757",
     "status": "completed"
    },
    "tags": []
   },
   "outputs": [
    {
     "data": {
      "image/png": "[encoded data removed]",
      "text/plain": [
       "<Figure size 432x288 with 1 Axes>"
      ]
     },
     "metadata": {
      "needs_background": "light"
     },
     "output_type": "display_data"
    }
   ],
   "source": [
    "plot_curve('precision')"
   ]
  },
  {
   "cell_type": "code",
   "execution_count": 22,
   "id": "b6c2139e",
   "metadata": {
    "execution": {
     "iopub.execute_input": "2022-01-09T10:28:31.943978Z",
     "iopub.status.busy": "2022-01-09T10:28:31.943125Z",
     "iopub.status.idle": "2022-01-09T10:28:32.165488Z",
     "shell.execute_reply": "2022-01-09T10:28:32.166119Z",
     "shell.execute_reply.started": "2022-01-09T10:17:30.161444Z"
    },
    "papermill": {
     "duration": 0.533624,
     "end_time": "2022-01-09T10:28:32.166269",
     "exception": false,
     "start_time": "2022-01-09T10:28:31.632645",
     "status": "completed"
    },
    "tags": []
   },
   "outputs": [
    {
     "data": {
      "image/png": "[encoded data removed]",
      "text/plain": [
       "<Figure size 432x288 with 1 Axes>"
      ]
     },
     "metadata": {
      "needs_background": "light"
     },
     "output_type": "display_data"
    }
   ],
   "source": [
    "plot_curve('recall')"
   ]
  },
  {
   "cell_type": "code",
   "execution_count": 23,
   "id": "94230260",
   "metadata": {
    "execution": {
     "iopub.execute_input": "2022-01-09T10:28:32.929960Z",
     "iopub.status.busy": "2022-01-09T10:28:32.929017Z",
     "iopub.status.idle": "2022-01-09T10:28:33.175173Z",
     "shell.execute_reply": "2022-01-09T10:28:33.174579Z",
     "shell.execute_reply.started": "2022-01-09T10:18:39.340487Z"
    },
    "papermill": {
     "duration": 0.713581,
     "end_time": "2022-01-09T10:28:33.175303",
     "exception": false,
     "start_time": "2022-01-09T10:28:32.461722",
     "status": "completed"
    },
    "tags": []
   },
   "outputs": [
    {
     "data": {
      "image/png": "[encoded data removed]",
      "text/plain": [
       "<Figure size 432x288 with 1 Axes>"
      ]
     },
     "metadata": {
      "needs_background": "light"
     },
     "output_type": "display_data"
    }
   ],
   "source": [
    "plot_curve('loss')"
   ]
  },
  {
   "cell_type": "code",
   "execution_count": 24,
   "id": "2c09e52e",
   "metadata": {
    "execution": {
     "iopub.execute_input": "2022-01-09T10:28:33.770740Z",
     "iopub.status.busy": "2022-01-09T10:28:33.769829Z",
     "iopub.status.idle": "2022-01-09T10:28:34.489019Z",
     "shell.execute_reply": "2022-01-09T10:28:34.489515Z",
     "shell.execute_reply.started": "2022-01-09T10:13:10.323989Z"
    },
    "papermill": {
     "duration": 1.019602,
     "end_time": "2022-01-09T10:28:34.489685",
     "exception": false,
     "start_time": "2022-01-09T10:28:33.470083",
     "status": "completed"
    },
    "tags": []
   },
   "outputs": [
    {
     "name": "stdout",
     "output_type": "stream",
     "text": [
      "57/57 [==============================] - 1s 7ms/step - loss: 0.1122 - accuracy: 0.9621 - precision: 0.9627 - recall: 0.9616\n"
     ]
    },
    {
     "data": {
      "text/plain": [
       "{'loss': 0.11223748326301575,\n",
       " 'accuracy': 0.9621380567550659,\n",
       " 'precision': 0.9626532793045044,\n",
       " 'recall': 0.961581289768219}"
      ]
     },
     "execution_count": 24,
     "metadata": {},
     "output_type": "execute_result"
    }
   ],
   "source": [
    "model.evaluate(test, return_dict=True)\n"
   ]
  }
 ],
 "metadata": {
  "kernelspec": {
   "display_name": "Python 3",
   "language": "python",
   "name": "python3"
  },
  "language_info": {
   "codemirror_mode": {
    "name": "ipython",
    "version": 3
   },
   "file_extension": ".py",
   "mimetype": "text/x-python",
   "name": "python",
   "nbconvert_exporter": "python",
   "pygments_lexer": "ipython3",
   "version": "3.7.12"
  },
  "papermill": {
   "default_parameters": {},
   "duration": 139.40531,
   "end_time": "2022-01-09T10:28:37.679306",
   "environment_variables": {},
   "exception": null,
   "input_path": "__notebook__.ipynb",
   "output_path": "__notebook__.ipynb",
   "parameters": {},
   "start_time": "2022-01-09T10:26:18.273996",
   "version": "2.3.3"
  }
 },
 "nbformat": 4,
 "nbformat_minor": 5
}
